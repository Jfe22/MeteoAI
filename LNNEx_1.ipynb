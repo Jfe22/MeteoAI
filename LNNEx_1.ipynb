{
 "cells": [
  {
   "cell_type": "code",
   "execution_count": 1,
   "metadata": {},
   "outputs": [],
   "source": [
    "import numpy as np\n",
    "import tensorflow as tf\n",
    "from tensorflow import keras"
   ]
  },
  {
   "cell_type": "code",
   "execution_count": 2,
   "metadata": {},
   "outputs": [],
   "source": [
    "def initialize_weights(input_dim, reservoir_dim, output_dim, spectral_radius):\n",
    "    # Initialize reservoir weights randomly\n",
    "    reservoir_weights = np.random.randn(reservoir_dim, reservoir_dim)\n",
    "    # Scale reservoir weights to achieve desired spectral radius\n",
    "    reservoir_weights *= spectral_radius / np.max(np.abs(np.linalg.eigvals(reservoir_weights)))\n",
    "    \n",
    "    # Initialize input-to-reservoir weights randomly\n",
    "    input_weights = np.random.randn(reservoir_dim, input_dim)\n",
    "    \n",
    "    # Initialize output weights to zero\n",
    "    output_weights = np.zeros((reservoir_dim, output_dim))\n",
    "    \n",
    "    return reservoir_weights, input_weights, output_weights"
   ]
  },
  {
   "cell_type": "code",
   "execution_count": 3,
   "metadata": {},
   "outputs": [],
   "source": [
    "def train_lnn(input_data, labels, reservoir_weights, input_weights, output_weights, leak_rate, num_epochs):\n",
    "    num_samples = input_data.shape[0]\n",
    "    reservoir_dim = reservoir_weights.shape[0]\n",
    "    reservoir_states = np.zeros((num_samples, reservoir_dim))\n",
    "    \n",
    "    for epoch in range(num_epochs):\n",
    "        for i in range(num_samples):\n",
    "            # Update reservoir state\n",
    "            if i > 0:\n",
    "                reservoir_states[i, :] = (1 - leak_rate) * reservoir_states[i - 1, :]\n",
    "            reservoir_states[i, :] += leak_rate * np.tanh(np.dot(input_weights, input_data[i, :]) +\n",
    "                                                           np.dot(reservoir_weights, reservoir_states[i, :]))\n",
    "        \n",
    "        # Train output weights\n",
    "        output_weights = np.dot(np.linalg.pinv(reservoir_states), labels)\n",
    "        \n",
    "        # Compute training accuracy\n",
    "        train_predictions = np.dot(reservoir_states, output_weights)\n",
    "        train_accuracy = np.mean(np.argmax(train_predictions, axis=1) == np.argmax(labels, axis=1))\n",
    "        print(f\"Epoch {epoch + 1}/{num_epochs}, Train Accuracy: {train_accuracy:.4f}\")\n",
    "    \n",
    "    return output_weights"
   ]
  },
  {
   "cell_type": "code",
   "execution_count": 4,
   "metadata": {},
   "outputs": [],
   "source": [
    "def predict_lnn(input_data, reservoir_weights, input_weights, output_weights, leak_rate):\n",
    "    num_samples = input_data.shape[0]\n",
    "    reservoir_dim = reservoir_weights.shape[0]\n",
    "    reservoir_states = np.zeros((num_samples, reservoir_dim))\n",
    "    \n",
    "    for i in range(num_samples):\n",
    "        # Update reservoir state\n",
    "        if i > 0:\n",
    "            reservoir_states[i, :] = (1 - leak_rate) * reservoir_states[i - 1, :]\n",
    "        reservoir_states[i, :] += leak_rate * np.tanh(np.dot(input_weights, input_data[i, :]) +\n",
    "                                                       np.dot(reservoir_weights, reservoir_states[i, :]))\n",
    "    \n",
    "    # Compute predictions using output weights\n",
    "    predictions = np.dot(reservoir_states, output_weights)\n",
    "    return predictions"
   ]
  },
  {
   "cell_type": "code",
   "execution_count": 5,
   "metadata": {},
   "outputs": [],
   "source": [
    "# Load and preprocess MNIST dataset\n",
    "(x_train, y_train), (x_test, y_test) = keras.datasets.mnist.load_data()\n",
    "y_train = keras.utils.to_categorical(y_train)\n",
    "y_test = keras.utils.to_categorical(y_test)\n",
    "x_train = x_train.reshape((60000, 784)) / 255.0 \n",
    "x_test = x_test.reshape((10000, 784)) / 255.0"
   ]
  },
  {
   "cell_type": "code",
   "execution_count": 6,
   "metadata": {},
   "outputs": [],
   "source": [
    "# Set LNN hyperparameters\n",
    "input_dim = 784\n",
    "reservoir_dim = 1000\n",
    "output_dim = 10\n",
    "leak_rate = 0.1\n",
    "spectral_radius = 0.9\n",
    "num_epochs = 10"
   ]
  },
  {
   "cell_type": "code",
   "execution_count": 7,
   "metadata": {},
   "outputs": [],
   "source": [
    "# Initialize LNN weights\n",
    "reservoir_weights, input_weights, output_weights = initialize_weights(input_dim, reservoir_dim, output_dim, spectral_radius)"
   ]
  },
  {
   "cell_type": "code",
   "execution_count": 8,
   "metadata": {},
   "outputs": [
    {
     "name": "stdout",
     "output_type": "stream",
     "text": [
      "Epoch 1/10, Train Accuracy: 0.3998\n",
      "Epoch 2/10, Train Accuracy: 0.3998\n",
      "Epoch 3/10, Train Accuracy: 0.3998\n",
      "Epoch 4/10, Train Accuracy: 0.3998\n",
      "Epoch 5/10, Train Accuracy: 0.3998\n",
      "Epoch 6/10, Train Accuracy: 0.3998\n",
      "Epoch 7/10, Train Accuracy: 0.3996\n",
      "Epoch 8/10, Train Accuracy: 0.3996\n",
      "Epoch 9/10, Train Accuracy: 0.3995\n",
      "Epoch 10/10, Train Accuracy: 0.3995\n"
     ]
    }
   ],
   "source": [
    "# Train the LNN\n",
    "output_weights = train_lnn(x_train, y_train, reservoir_weights, input_weights, output_weights, leak_rate, num_epochs)"
   ]
  },
  {
   "cell_type": "code",
   "execution_count": 9,
   "metadata": {},
   "outputs": [
    {
     "name": "stdout",
     "output_type": "stream",
     "text": [
      "Test Accuracy: 0.3657\n"
     ]
    }
   ],
   "source": [
    "# Evaluate the LNN on test set\n",
    "test_predictions = predict_lnn(x_test, reservoir_weights, input_weights, output_weights, leak_rate)\n",
    "test_accuracy = np.mean(np.argmax(test_predictions, axis=1) == np.argmax(y_test, axis=1))\n",
    "print(f\"Test Accuracy: {test_accuracy:.4f}\")"
   ]
  }
 ],
 "metadata": {
  "kernelspec": {
   "display_name": "venvteste39",
   "language": "python",
   "name": "python3"
  },
  "language_info": {
   "codemirror_mode": {
    "name": "ipython",
    "version": 3
   },
   "file_extension": ".py",
   "mimetype": "text/x-python",
   "name": "python",
   "nbconvert_exporter": "python",
   "pygments_lexer": "ipython3",
   "version": "3.9.21"
  }
 },
 "nbformat": 4,
 "nbformat_minor": 2
}
