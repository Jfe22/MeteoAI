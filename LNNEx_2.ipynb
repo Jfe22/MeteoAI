{
 "cells": [
  {
   "cell_type": "code",
   "execution_count": 12,
   "metadata": {},
   "outputs": [],
   "source": [
    "#from ncps.tf import CfC, LTC\n",
    "from ncps.keras import CfC, LTC\n",
    "from ncps.wirings import AutoNCP\n",
    "\n",
    "units = 28\n",
    "wiring = AutoNCP(28, 4) # 28 neurons, 4 outputs\n",
    "input_size = 20\n",
    "rnn1 = LTC(units) # fully-connected LTC\n",
    "rnn2 = CfC(units) # fully-connected CfC\n",
    "rnn3 = LTC(wiring) # NCP wired LTC\n",
    "rnn4 = CfC(wiring) # NCP wired CfC"
   ]
  },
  {
   "cell_type": "markdown",
   "metadata": {},
   "source": [
    "# EXEMPLO DE CNN + LNN PARA CLASSIFICAR IMAGENS!"
   ]
  },
  {
   "cell_type": "code",
   "execution_count": 13,
   "metadata": {},
   "outputs": [],
   "source": [
    "from ncps.wirings import AutoNCP\n",
    "#from ncps.tf import LTC\n",
    "from ncps.keras import LTC\n",
    "import tensorflow as tf\n",
    "height, width, channels = (78, 200, 3)\n",
    "\n",
    "ncp = LTC(AutoNCP(32, output_size=8), return_sequences=True)\n",
    "\n",
    "model = tf.keras.models.Sequential(\n",
    "    [\n",
    "        tf.keras.layers.InputLayer(input_shape=(None, height, width, channels)),\n",
    "        tf.keras.layers.TimeDistributed(\n",
    "            tf.keras.layers.Conv2D(32, (5, 5), activation=\"relu\")\n",
    "        ),\n",
    "        tf.keras.layers.TimeDistributed(tf.keras.layers.MaxPool2D()),\n",
    "        tf.keras.layers.TimeDistributed(\n",
    "            tf.keras.layers.Conv2D(64, (5, 5), activation=\"relu\")\n",
    "        ),\n",
    "        tf.keras.layers.TimeDistributed(tf.keras.layers.MaxPool2D()),\n",
    "        tf.keras.layers.TimeDistributed(tf.keras.layers.Flatten()),\n",
    "        tf.keras.layers.TimeDistributed(tf.keras.layers.Dense(32, activation=\"relu\")),\n",
    "        ncp,\n",
    "        tf.keras.layers.TimeDistributed(tf.keras.layers.Activation(\"softmax\")),\n",
    "    ]\n",
    ")\n",
    "model.compile(\n",
    "    optimizer=tf.keras.optimizers.Adam(0.01),\n",
    "    loss='sparse_categorical_crossentropy',\n",
    ")"
   ]
  }
 ],
 "metadata": {
  "kernelspec": {
   "display_name": "venvteste39",
   "language": "python",
   "name": "python3"
  },
  "language_info": {
   "codemirror_mode": {
    "name": "ipython",
    "version": 3
   },
   "file_extension": ".py",
   "mimetype": "text/x-python",
   "name": "python",
   "nbconvert_exporter": "python",
   "pygments_lexer": "ipython3",
   "version": "3.9.21"
  }
 },
 "nbformat": 4,
 "nbformat_minor": 2
}
